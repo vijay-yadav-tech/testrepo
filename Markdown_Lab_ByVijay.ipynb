{
 "cells": [
  {
   "cell_type": "markdown",
   "id": "ae00673c-4704-4a17-9132-1b1ed64b6a5c",
   "metadata": {
    "tags": []
   },
   "source": [
    "# My Jupyter Notebook on IBM Watson Studio\n",
    "#### **Vijay Yadav**\n",
    "#### IBM Data Science \n",
    "#### *I am interested in data science because it help me to create better solutions for real-world problems that my organization in Decision Making*"
   ]
  },
  {
   "cell_type": "code",
   "execution_count": null,
   "id": "0d5c6fc1-0b87-42ee-bc46-16e17c10275c",
   "metadata": {},
   "outputs": [],
   "source": []
  },
  {
   "cell_type": "markdown",
   "id": "aa6772d7-c5c5-4861-befb-98b14e31c361",
   "metadata": {},
   "source": [
    "### Addition of two numbers 1 + 9"
   ]
  },
  {
   "cell_type": "code",
   "execution_count": 3,
   "id": "eeddea34-eb8e-4561-9881-524298a3db0b",
   "metadata": {},
   "outputs": [
    {
     "name": "stdout",
     "output_type": "stream",
     "text": [
      "10\n"
     ]
    }
   ],
   "source": [
    "print(1+9)"
   ]
  },
  {
   "cell_type": "markdown",
   "id": "64db9b6f-0f76-4760-90f7-727d249d47f3",
   "metadata": {},
   "source": [
    "### Example of horizontal rule\n",
    "This is first line\n",
    "***\n",
    "This is second line \n",
    "\n",
    "### Example of bulleted list\n",
    "-Heading\n",
    " - First\n",
    " - Second\n",
    " - Third\n",
    " \n",
    "### Example of numbered list\n",
    "1. First Number List\n",
    "    1. First Number\n",
    "    2. Second Number\n",
    "2. Second Number List\n",
    "    1. A1\n",
    "    2. A2\n",
    "    3. A3"
   ]
  },
  {
   "cell_type": "code",
   "execution_count": null,
   "id": "9b7b7f0a-23d3-4a78-a188-9e65e9b6c6d5",
   "metadata": {},
   "outputs": [],
   "source": []
  }
 ],
 "metadata": {
  "kernelspec": {
   "display_name": "Python",
   "language": "python",
   "name": "conda-env-python-py"
  },
  "language_info": {
   "codemirror_mode": {
    "name": "ipython",
    "version": 3
   },
   "file_extension": ".py",
   "mimetype": "text/x-python",
   "name": "python",
   "nbconvert_exporter": "python",
   "pygments_lexer": "ipython3",
   "version": "3.7.12"
  }
 },
 "nbformat": 4,
 "nbformat_minor": 5
}
